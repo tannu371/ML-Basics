{
 "cells": [
  {
   "cell_type": "code",
   "execution_count": 2,
   "id": "8ac1baa5-43f8-443a-96d8-290fbbd315c9",
   "metadata": {},
   "outputs": [],
   "source": [
    " # Linear Regression : y = ϴx + b"
   ]
  },
  {
   "cell_type": "code",
   "execution_count": 3,
   "id": "f10b08cb-2422-4619-a543-6044c4bfe82e",
   "metadata": {},
   "outputs": [],
   "source": [
    "X = [[1,2,3,4,5],\n",
    "    [2,3,4,5,6,]]\n",
    "Y = [5,10,15,20,25]"
   ]
  },
  {
   "cell_type": "code",
   "execution_count": null,
   "id": "7beafd0b-d8f0-4e70-bc91-7b11ebe4f100",
   "metadata": {},
   "outputs": [],
   "source": [
    "def predict(X) :\n",
    "    "
   ]
  },
  {
   "cell_type": "code",
   "execution_count": null,
   "id": "836428f2-70b4-4d3c-8b93-d9af0987a3e7",
   "metadata": {},
   "outputs": [],
   "source": [
    "# Gradient descent\n",
    "def Gradient_Descent(ε, µ, ) :\n",
    "    "
   ]
  }
 ],
 "metadata": {
  "kernelspec": {
   "display_name": "Python 3 (ipykernel)",
   "language": "python",
   "name": "python3"
  },
  "language_info": {
   "codemirror_mode": {
    "name": "ipython",
    "version": 3
   },
   "file_extension": ".py",
   "mimetype": "text/x-python",
   "name": "python",
   "nbconvert_exporter": "python",
   "pygments_lexer": "ipython3",
   "version": "3.11.7"
  }
 },
 "nbformat": 4,
 "nbformat_minor": 5
}
